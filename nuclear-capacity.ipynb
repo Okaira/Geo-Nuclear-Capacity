{
 "cells": [
  {
   "cell_type": "code",
   "execution_count": 7,
   "metadata": {},
   "outputs": [],
   "source": [
    "import mysql.connector as connector"
   ]
  },
  {
   "cell_type": "code",
   "execution_count": 8,
   "metadata": {},
   "outputs": [],
   "source": [
    "connection = connector.connect(user=\"root\", password=\"opakaira\")"
   ]
  },
  {
   "cell_type": "code",
   "execution_count": 9,
   "metadata": {},
   "outputs": [
    {
     "name": "stdout",
     "output_type": "stream",
     "text": [
      "Cursor is created to communicate with the MySQL using Python.\n"
     ]
    }
   ],
   "source": [
    "# Create cursor object to communicate with entire MySQL database\n",
    "cursor = connection.cursor()\n",
    "print(\"Cursor is created to communicate with the MySQL using Python.\")"
   ]
  },
  {
   "cell_type": "code",
   "execution_count": 10,
   "metadata": {},
   "outputs": [
    {
     "name": "stdout",
     "output_type": "stream",
     "text": [
      "The database 'Geo_Nuclear_db' is created.\n",
      "\n",
      "The database Geo_Nuclear_db is set for use.\n"
     ]
    }
   ],
   "source": [
    "# Use try-except block to create a database named \"Geo_Nuclear_db\"\n",
    "# If the database already exists then drop the database first, then create it again.\n",
    "try:\n",
    "    cursor.execute(\"CREATE DATABASE Geo_Nuclear_db\")\n",
    "except:\n",
    "    cursor.execute(\"DROP DATABASE Geo_Nuclear_db\")\n",
    "    cursor.execute(\"CREATE DATABASE Geo_Nuclear_db\")\n",
    "print(\"The database 'Geo_Nuclear_db' is created.\\n\")    \n",
    "\n",
    "# Set Geo_Nuclear_db database for use \n",
    "cursor.execute(\"USE Geo_Nuclear_db\")\n",
    "print(\"The database Geo_Nuclear_db is set for use.\")"
   ]
  },
  {
   "cell_type": "code",
   "execution_count": 21,
   "metadata": {},
   "outputs": [
    {
     "name": "stdout",
     "output_type": "stream",
     "text": [
      "The Location table is created.\n",
      "\n"
     ]
    }
   ],
   "source": [
    "# The SQL query for the Location table is: \n",
    "Create_Location_Table =\"\"\"\n",
    "CREATE TABLE IF NOT EXISTS Location (\n",
    "  LocationID INT NOT NULL AUTO_INCREMENT,\n",
    "  Country VARCHAR(45) NOT NULL,\n",
    "  Latitude VARCHAR(45) NOT NULL,\n",
    "  Longitude VARCHAR(45) NULL,\n",
    "  PRIMARY KEY (LocationID))\n",
    ";\"\"\"\n",
    "\n",
    "# Create Location table\n",
    "cursor.execute(Create_Location_Table)\n",
    "print(\"The Location table is created.\\n\")\n",
    "\n",
    "connection.commit()"
   ]
  },
  {
   "cell_type": "code",
   "execution_count": 22,
   "metadata": {},
   "outputs": [
    {
     "name": "stdout",
     "output_type": "stream",
     "text": [
      "The Reactors table is created.\n",
      "\n"
     ]
    }
   ],
   "source": [
    "# The SQL query for the Reactors table is: \n",
    "Create_Reactors_Table =\"\"\"\n",
    "CREATE TABLE IF NOT EXISTS Reactors (\n",
    "  ReactorID INT NOT NULL AUTO_INCREMENT,\n",
    "  Name VARCHAR(45) NOT NULL,\n",
    "  Type VARCHAR(45) NULL,\n",
    "  Model VARCHAR(45) NULL,\n",
    "  Capacity VARCHAR(45) NOT NULL,\n",
    "  LocationID INT NULL,\n",
    "  PRIMARY KEY (ReactorID),\n",
    "  FOREIGN KEY (LocationID) REFERENCES Location (LocationID)\n",
    ")\n",
    ";\"\"\"\n",
    "\n",
    "# Create Reactors table\n",
    "cursor.execute(Create_Reactors_Table)\n",
    "print(\"The Reactors table is created.\\n\")\n",
    "\n",
    "connection.commit()"
   ]
  },
  {
   "cell_type": "code",
   "execution_count": null,
   "metadata": {},
   "outputs": [],
   "source": []
  }
 ],
 "metadata": {
  "kernelspec": {
   "display_name": "Python 3",
   "language": "python",
   "name": "python3"
  },
  "language_info": {
   "codemirror_mode": {
    "name": "ipython",
    "version": 3
   },
   "file_extension": ".py",
   "mimetype": "text/x-python",
   "name": "python",
   "nbconvert_exporter": "python",
   "pygments_lexer": "ipython3",
   "version": "3.9.6"
  },
  "orig_nbformat": 4
 },
 "nbformat": 4,
 "nbformat_minor": 2
}
